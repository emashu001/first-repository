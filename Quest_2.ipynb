{
  "nbformat": 4,
  "nbformat_minor": 0,
  "metadata": {
    "colab": {
      "provenance": [],
      "include_colab_link": true
    },
    "kernelspec": {
      "name": "python3",
      "display_name": "Python 3"
    },
    "language_info": {
      "name": "python"
    }
  },
  "cells": [
    {
      "cell_type": "markdown",
      "metadata": {
        "id": "view-in-github",
        "colab_type": "text"
      },
      "source": [
        "<a href=\"https://colab.research.google.com/github/emashu001/first-repository/blob/master/Quest_2.ipynb\" target=\"_parent\"><img src=\"https://colab.research.google.com/assets/colab-badge.svg\" alt=\"Open In Colab\"/></a>"
      ]
    },
    {
      "cell_type": "code",
      "execution_count": null,
      "metadata": {
        "id": "Ff6L-2Fx8Wtm"
      },
      "outputs": [],
      "source": [
        "'''\n",
        "[파이썬] 퀘스트: 거북이 미로찾기\n",
        "\n",
        "난이도: ★★★☆☆\n",
        "\n",
        "장르: ColabTurtlePlus, 함수, 조건문 활용\n",
        "\n",
        "---\n",
        "* 2차원 리스트란? : https://dojang.io/mod/page/view.php?id=2291\n",
        "\n",
        "다음은 ColabTurtle을 사용하여 미로를 찾는 문제다.\n",
        "조건을 확인하여 거북이가 미로를 헤매지 않도록 출구를 찾아주자!\n",
        "\n",
        "조건 :\n",
        "미로는 5x5의 2차원 리스트로 주어져 있다.\n",
        "시작 위치는 (0,0)이고 목적지 위치는 (4,4)이다.\n",
        "터틀은 상하좌우로 움직일 수 있다.\n",
        "미로 내에서 갈 수 있는 길은 0으로 표시되어 있다.\n",
        "터틀이 이미 지나간 길은 2로 표시해야한다.\n",
        "거북이가 미로를 찾아 나가면 \"미로를 찾았습니다.\", \n",
        "미로를 찾을 수 없으면 \"미로를 찾을 수 없습니다.\"가 나올 수 있도록 만들어보자!\n",
        "\n",
        "---\n",
        "입력값 :\n",
        "\n",
        "# 5x5 2차원 미로 리스트\n",
        "maze = [\n",
        "    [0, 1, 0, 0, 0],\n",
        "    [0, 0, 0, 1, 0],\n",
        "    [0, 1, 1, 0, 0],\n",
        "    [0, 0, 1, 1, 0],\n",
        "    [0, 0, 0, 0, 0]\n",
        "]\n",
        "\n",
        "출력값 :\n",
        "'''"
      ]
    },
    {
      "cell_type": "code",
      "source": [
        "!pip3 install ColabTurtlePlus"
      ],
      "metadata": {
        "id": "KW2N_YQ9_EGf",
        "colab": {
          "base_uri": "https://localhost:8080/"
        },
        "outputId": "4ac0131e-27b8-40a4-d7c4-8da3479a2515"
      },
      "execution_count": null,
      "outputs": [
        {
          "output_type": "stream",
          "name": "stdout",
          "text": [
            "Looking in indexes: https://pypi.org/simple, https://us-python.pkg.dev/colab-wheels/public/simple/\n",
            "Collecting ColabTurtlePlus\n",
            "  Downloading ColabTurtlePlus-2.0.1-py3-none-any.whl (31 kB)\n",
            "Installing collected packages: ColabTurtlePlus\n",
            "Successfully installed ColabTurtlePlus-2.0.1\n"
          ]
        }
      ]
    },
    {
      "cell_type": "code",
      "source": [
        "# from ColabTurtlePlus.Turtle import *\n",
        "\n",
        "maze = [\n",
        "    [0, 1, 0, 0, 0],\n",
        "    [0, 0, 0, 1, 0],\n",
        "    [0, 1, 1, 0, 0],\n",
        "    [0, 0, 1, 1, 0],\n",
        "    [0, 0, 0, 0, 0]\n",
        "]\n",
        "\n",
        "\n",
        "# print(\"turtle start point :\", maze[x][y])\n",
        "\n",
        "def findroad(x, y):\n",
        "  if maze[x][y] == 0:\n",
        "    print(\"길이 yes!\")\n",
        "    # x += 1\n",
        "    maze[x][y] = 2\n",
        "    print (\"tutle now point :\",  (x, y), maze[x][y])\n",
        "\n",
        "  elif maze[x][y] == 1:\n",
        "    print(\"길이 no, 좌표를 다시 적어 주세요!\")\n",
        "    print (\"tutle now point :\",  (x, y), maze[x][y])"
      ],
      "metadata": {
        "id": "LlfRLBhR90pz"
      },
      "execution_count": null,
      "outputs": []
    },
    {
      "cell_type": "code",
      "source": [
        "for x in range(len(maze)):\n",
        "  if maze[x][y] ==1:\n",
        "    findroad(x,y)\n",
        "    break\n",
        "  for y in range(len(maze)):\n",
        "    if maze[x][y] ==1:\n",
        "      break\n",
        "    findroad(x,y)\n",
        "\n",
        "maze"
      ],
      "metadata": {
        "colab": {
          "base_uri": "https://localhost:8080/"
        },
        "id": "NCfRMJCCNX40",
        "outputId": "05c385a3-c734-4f42-d64f-fecea630f25a"
      },
      "execution_count": 109,
      "outputs": [
        {
          "output_type": "execute_result",
          "data": {
            "text/plain": [
              "[[2, 1, 0, 0, 0],\n",
              " [2, 2, 2, 1, 0],\n",
              " [2, 1, 1, 0, 0],\n",
              " [2, 2, 1, 1, 0],\n",
              " [2, 2, 2, 2, 2]]"
            ]
          },
          "metadata": {},
          "execution_count": 109
        }
      ]
    },
    {
      "cell_type": "code",
      "source": [
        "# x,y = int(input(\"입력값 : \").split(\",\"))\n",
        "\n",
        "maze = [\n",
        "    [0, 1, 0, 0, 0],\n",
        "    [0, 0, 0, 1, 0],\n",
        "    [0, 1, 1, 0, 0],\n",
        "    [0, 0, 1, 1, 0],\n",
        "    [0, 0, 0, 0, 0]\n",
        "]\n",
        "\n",
        "# maze[y][x]\n",
        "for y in range(len(maze)):\n",
        "  for x in range(len(maze[y])):\n",
        "    if maze[y][x] == 0:\n",
        "      maze[y][x] = 2\n",
        "      # print(y,x)\n",
        "      x += 1 \n",
        "    else:\n",
        "      break\n",
        "      \n",
        "  \n",
        "# print(x,y)\n",
        "# print(len(maze))\n",
        "# print(len(maze[y])-1)\n",
        "maze"
      ],
      "metadata": {
        "id": "Sv-wGdaTBpZl",
        "colab": {
          "base_uri": "https://localhost:8080/"
        },
        "outputId": "9cb7f6d5-135d-45fc-aacc-288679759849"
      },
      "execution_count": 105,
      "outputs": [
        {
          "output_type": "execute_result",
          "data": {
            "text/plain": [
              "[[2, 1, 0, 0, 0],\n",
              " [2, 2, 2, 1, 0],\n",
              " [2, 1, 1, 0, 0],\n",
              " [2, 2, 1, 1, 0],\n",
              " [2, 2, 2, 2, 2]]"
            ]
          },
          "metadata": {},
          "execution_count": 105
        }
      ]
    }
  ]
}